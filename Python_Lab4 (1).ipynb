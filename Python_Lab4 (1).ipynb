{
  "nbformat": 4,
  "nbformat_minor": 0,
  "metadata": {
    "colab": {
      "provenance": []
    },
    "kernelspec": {
      "name": "python3",
      "display_name": "Python 3"
    },
    "language_info": {
      "name": "python"
    }
  },
  "cells": [
    {
      "cell_type": "code",
      "execution_count": 1,
      "metadata": {
        "id": "kOtdr51M3ZRl"
      },
      "outputs": [],
      "source": [
        "# 1. **Lists:**\n",
        "list =  list(range(1 , 11))"
      ]
    },
    {
      "cell_type": "code",
      "source": [
        "print(f\"My List is :{list}\")\n",
        "print(f\"\\nFirst number in list is : {list[0]}\")\n",
        "print(f\"\\nLast number in list is : {list[-1]}\")\n",
        "print(f\"\\nReverse list is : {list[::-1]}\")\n",
        "print(f\"\\nSum list is : {sum(list)}\")"
      ],
      "metadata": {
        "colab": {
          "base_uri": "https://localhost:8080/"
        },
        "id": "p8b7usK16MYr",
        "outputId": "3f163d75-d91a-4c52-b339-bd1e91795ba7"
      },
      "execution_count": 2,
      "outputs": [
        {
          "output_type": "stream",
          "name": "stdout",
          "text": [
            "My List is :[1, 2, 3, 4, 5, 6, 7, 8, 9, 10]\n",
            "\n",
            "First number in list is : 1\n",
            "\n",
            "Last number in list is : 10\n",
            "\n",
            "Reverse list is : [10, 9, 8, 7, 6, 5, 4, 3, 2, 1]\n",
            "\n",
            "Sum list is : 55\n"
          ]
        }
      ]
    },
    {
      "cell_type": "code",
      "source": [
        "# 2. **Dictionaries:**\n",
        "\"\"\"naturalNumbers = {\n",
        "    1 : 1,\n",
        "    2 : 4,\n",
        "    3 : 9,\n",
        "    4 : 16,\n",
        "    5 : 25,\n",
        "\n",
        "}\"\"\"\n",
        "naturalNumbers = {i: i**2 for i in range(1, 6)}\n"
      ],
      "metadata": {
        "id": "hVTd23Ct6MbL"
      },
      "execution_count": 3,
      "outputs": []
    },
    {
      "cell_type": "code",
      "source": [
        "print(naturalNumbers)"
      ],
      "metadata": {
        "colab": {
          "base_uri": "https://localhost:8080/"
        },
        "id": "7wOlroeL6Mdr",
        "outputId": "e5d336a7-4996-4f08-d3bb-0185cc5963ad"
      },
      "execution_count": 4,
      "outputs": [
        {
          "output_type": "stream",
          "name": "stdout",
          "text": [
            "{1: 1, 2: 4, 3: 9, 4: 16, 5: 25}\n"
          ]
        }
      ]
    },
    {
      "cell_type": "code",
      "source": [
        "naturalNumbers[6]=36\n",
        "naturalNumbers"
      ],
      "metadata": {
        "colab": {
          "base_uri": "https://localhost:8080/"
        },
        "id": "9XyJJNOq6Mga",
        "outputId": "9ae05252-a13d-4385-c6bd-d06cba8512c3"
      },
      "execution_count": 5,
      "outputs": [
        {
          "output_type": "execute_result",
          "data": {
            "text/plain": [
              "{1: 1, 2: 4, 3: 9, 4: 16, 5: 25, 6: 36}"
            ]
          },
          "metadata": {},
          "execution_count": 5
        }
      ]
    },
    {
      "cell_type": "code",
      "source": [
        "if 4 in naturalNumbers:\n",
        "  print(\"Key 4 exists in the dictionary\")\n",
        "else:\n",
        "    print(\"Key 4 does not exist in the dictionary\")"
      ],
      "metadata": {
        "colab": {
          "base_uri": "https://localhost:8080/"
        },
        "id": "Mvi05U6r6Mi0",
        "outputId": "02b74464-966e-4883-84c8-2102543834f2"
      },
      "execution_count": 6,
      "outputs": [
        {
          "output_type": "stream",
          "name": "stdout",
          "text": [
            "Key 4 exists in the dictionary\n"
          ]
        }
      ]
    },
    {
      "cell_type": "code",
      "source": [
        " #1. **Student Grades:**\n",
        "studentsGrade = {\n",
        "    'Nada' : [80 , 90 ,100],\n",
        "    'Esraa' : [88 , 90 ,95],\n",
        "    'Rehab' : [80 , 70 ,100],\n",
        "\n",
        "}\n",
        "\n",
        "studentsGrade"
      ],
      "metadata": {
        "colab": {
          "base_uri": "https://localhost:8080/"
        },
        "id": "Bf9Jswv96MlR",
        "outputId": "a9883ab6-b338-49f4-9bb7-2b69520cb86b"
      },
      "execution_count": 7,
      "outputs": [
        {
          "output_type": "execute_result",
          "data": {
            "text/plain": [
              "{'Nada': [80, 90, 100], 'Esraa': [88, 90, 95], 'Rehab': [80, 70, 100]}"
            ]
          },
          "metadata": {},
          "execution_count": 7
        }
      ]
    },
    {
      "cell_type": "code",
      "source": [
        "# Print Each Student with Grade\n",
        "for student, grades in studentsGrade.items():\n",
        "    print(f\"{student}: {grades}\")"
      ],
      "metadata": {
        "colab": {
          "base_uri": "https://localhost:8080/"
        },
        "id": "oYrRcYiZBbyl",
        "outputId": "b0b6bee2-ca1f-442b-83e8-8b86a2cc858c"
      },
      "execution_count": 8,
      "outputs": [
        {
          "output_type": "stream",
          "name": "stdout",
          "text": [
            "Nada: [80, 90, 100]\n",
            "Esraa: [88, 90, 95]\n",
            "Rehab: [80, 70, 100]\n"
          ]
        }
      ]
    },
    {
      "cell_type": "code",
      "source": [
        "# print Average Grades to Each Student\n",
        "student_averages = {}\n",
        "\n",
        "print(\"Average Grades:\")\n",
        "for student, grades in studentsGrade.items():\n",
        "    average = sum(grades) / len(grades)\n",
        "    student_averages[student] = average\n",
        "    print(f\"{student}: {average:.2f}\")"
      ],
      "metadata": {
        "colab": {
          "base_uri": "https://localhost:8080/"
        },
        "id": "xm1UXCUL6Mn_",
        "outputId": "b4c2945e-991c-4aa8-e599-b65be4a0ea1a"
      },
      "execution_count": 9,
      "outputs": [
        {
          "output_type": "stream",
          "name": "stdout",
          "text": [
            "Average Grades:\n",
            "Nada: 90.00\n",
            "Esraa: 91.00\n",
            "Rehab: 83.33\n"
          ]
        }
      ]
    },
    {
      "cell_type": "code",
      "source": [
        "student_averages"
      ],
      "metadata": {
        "colab": {
          "base_uri": "https://localhost:8080/"
        },
        "id": "6mCIZO2u6Mro",
        "outputId": "1c0dea99-859f-49ee-f662-aaf205990cf4"
      },
      "execution_count": 10,
      "outputs": [
        {
          "output_type": "execute_result",
          "data": {
            "text/plain": [
              "{'Nada': 90.0, 'Esraa': 91.0, 'Rehab': 83.33333333333333}"
            ]
          },
          "metadata": {},
          "execution_count": 10
        }
      ]
    },
    {
      "cell_type": "code",
      "source": [
        "high =student_averages.values()\n",
        "print(f' the Highest average is :{max(high)}')"
      ],
      "metadata": {
        "colab": {
          "base_uri": "https://localhost:8080/"
        },
        "id": "OKXRUxZYkQk6",
        "outputId": "5d87767e-32fc-43a3-edd8-463683ce340d"
      },
      "execution_count": 11,
      "outputs": [
        {
          "output_type": "stream",
          "name": "stdout",
          "text": [
            " the Highest average is :91.0\n"
          ]
        }
      ]
    },
    {
      "cell_type": "code",
      "source": [
        "# print the Highest student average\n",
        "\n",
        "highest_avg_student = max(student_averages, key=student_averages.get)\n",
        "print(f\"The Highest Student is : {highest_avg_student} , With Highest Average : {max(high)}\" )"
      ],
      "metadata": {
        "colab": {
          "base_uri": "https://localhost:8080/"
        },
        "id": "ViHt507K6M3k",
        "outputId": "6c0eae6d-4d0e-4a1d-8698-274571cbae00"
      },
      "execution_count": 13,
      "outputs": [
        {
          "output_type": "stream",
          "name": "stdout",
          "text": [
            "The Highest Student is : Esraa , With Highest Average : 91.0\n"
          ]
        }
      ]
    },
    {
      "cell_type": "code",
      "source": [
        "# 2. **Shopping Cart:**\n",
        "shoppingCart = {\n",
        "    'BMW' : 50000,\n",
        "    'Marsedis' : 60000,\n",
        "    'Frary': 80000\n",
        "}\n",
        "shoppingCart"
      ],
      "metadata": {
        "colab": {
          "base_uri": "https://localhost:8080/"
        },
        "id": "pdMVpt9h6M6N",
        "outputId": "10a34af4-257c-4c20-b549-8c543a237e06"
      },
      "execution_count": 14,
      "outputs": [
        {
          "output_type": "execute_result",
          "data": {
            "text/plain": [
              "{'BMW': 50000, 'Marsedis': 60000, 'Frary': 80000}"
            ]
          },
          "metadata": {},
          "execution_count": 14
        }
      ]
    },
    {
      "cell_type": "code",
      "source": [
        "# add new item in shoppingCart dictionary\n",
        "shoppingCart['SUV'] = 90000\n",
        "\n",
        "shoppingCart"
      ],
      "metadata": {
        "colab": {
          "base_uri": "https://localhost:8080/"
        },
        "id": "A3tFXrKH6M9x",
        "outputId": "52952066-7163-4c43-89fd-73c59f72fb9a"
      },
      "execution_count": 15,
      "outputs": [
        {
          "output_type": "execute_result",
          "data": {
            "text/plain": [
              "{'BMW': 50000, 'Marsedis': 60000, 'Frary': 80000, 'SUV': 90000}"
            ]
          },
          "metadata": {},
          "execution_count": 15
        }
      ]
    },
    {
      "cell_type": "code",
      "source": [
        "# calculate total price\n",
        "sum(shoppingCart.values())"
      ],
      "metadata": {
        "colab": {
          "base_uri": "https://localhost:8080/"
        },
        "id": "V-jBM-a3FZmA",
        "outputId": "18740f87-286b-400b-f8e2-fcd25a443ea1"
      },
      "execution_count": 16,
      "outputs": [
        {
          "output_type": "execute_result",
          "data": {
            "text/plain": [
              "280000"
            ]
          },
          "metadata": {},
          "execution_count": 16
        }
      ]
    },
    {
      "cell_type": "code",
      "source": [
        "# 3. **Employee Database:**\n",
        "employees = [\n",
        "\n",
        "             {\n",
        "                  'name': 'Nada',\n",
        "                  'age': 23,\n",
        "                  'department': 'Data Engineering'\n",
        "             },\n",
        "             {\n",
        "                  'name': 'Esraa',\n",
        "                  'age': 25,\n",
        "                  'department': 'SW Engineering'\n",
        "             },\n",
        "             {\n",
        "                  'name': 'Rehab',\n",
        "                  'age': 26,\n",
        "                  'department': 'Data Engineering'\n",
        "             },\n",
        "\n",
        "]\n",
        "\n",
        "employees"
      ],
      "metadata": {
        "colab": {
          "base_uri": "https://localhost:8080/"
        },
        "id": "wk97ne0sFZie",
        "outputId": "53c36fdb-05ca-406c-fd2a-bb2a9a376e6b"
      },
      "execution_count": 18,
      "outputs": [
        {
          "output_type": "execute_result",
          "data": {
            "text/plain": [
              "[{'name': 'Nada', 'age': 23, 'department': 'Data Engineering'},\n",
              " {'name': 'Esraa', 'age': 25, 'department': 'SW Engineering'},\n",
              " {'name': 'Rehab', 'age': 26, 'department': 'Data Engineering'}]"
            ]
          },
          "metadata": {},
          "execution_count": 18
        }
      ]
    },
    {
      "cell_type": "code",
      "source": [
        "# Filter employees by a specific department => Data Engineering\n",
        "print('Employees in Data Engineering Department : ')\n",
        "for e in employees:\n",
        "  if e['department'] == 'Data Engineering' :\n",
        "    print(f\"=> {e['name']}\")\n"
      ],
      "metadata": {
        "colab": {
          "base_uri": "https://localhost:8080/"
        },
        "id": "T51BohhYFZgN",
        "outputId": "6b411089-c4ef-49e1-92a3-4927c475106c"
      },
      "execution_count": 24,
      "outputs": [
        {
          "output_type": "stream",
          "name": "stdout",
          "text": [
            "Employees in Data Engineering Department : \n",
            "=> Nada\n",
            "=> Rehab\n"
          ]
        }
      ]
    },
    {
      "cell_type": "code",
      "source": [
        "#- Find the average age of employees.\n",
        "total_age = 0\n",
        "for emp in employees:\n",
        "    total_age = emp['age'] + total_age\n",
        "\n",
        "average_age = total_age / len(employees)\n",
        "print(f\"Average age: {average_age:.1f} years\")"
      ],
      "metadata": {
        "colab": {
          "base_uri": "https://localhost:8080/"
        },
        "id": "-KIURPApFZdW",
        "outputId": "5f0996a2-e9f6-4a85-fd69-357979b67eed"
      },
      "execution_count": 25,
      "outputs": [
        {
          "output_type": "stream",
          "name": "stdout",
          "text": [
            "Average age: 24.7 years\n"
          ]
        }
      ]
    },
    {
      "cell_type": "code",
      "source": [
        "#### **Challenge Section**\n",
        "# 1. **Word Frequency Counter:**\n",
        "####if text =  \"hello python hello\"\n",
        "#it should return something like\n",
        "#{'hello': 2, 'python': 1}\n",
        "\n",
        "text = \"hello python hello\"\n",
        "words = text.split()\n",
        "frequency = {}\n",
        "for word in words:\n",
        "        if word in frequency:\n",
        "            frequency[word] += 1\n",
        "        else:\n",
        "            frequency[word] = 1\n",
        "\n",
        "print(frequency)\n"
      ],
      "metadata": {
        "colab": {
          "base_uri": "https://localhost:8080/"
        },
        "id": "aLTHSyW1FZay",
        "outputId": "e4959f8d-647f-4bdf-87d8-94c80c40fc53"
      },
      "execution_count": 26,
      "outputs": [
        {
          "output_type": "stream",
          "name": "stdout",
          "text": [
            "{'hello': 2, 'python': 1}\n"
          ]
        }
      ]
    },
    {
      "cell_type": "code",
      "source": [
        "# 2. **Inventory Management:**\n",
        "inventory_system = {\n",
        "     'table' : {\n",
        "         'price' : 500,\n",
        "         'quantity' : 10\n",
        "     },\n",
        "     'chair' : {\n",
        "         'price' : 200,\n",
        "         'quantity' : 15\n",
        "     },\n",
        "     'fan' : {\n",
        "         'price' : 600,\n",
        "         'quantity' : 8\n",
        "     },\n",
        " }\n",
        "\n",
        "inventory_system"
      ],
      "metadata": {
        "colab": {
          "base_uri": "https://localhost:8080/"
        },
        "id": "LoWBriFRFZYH",
        "outputId": "8396a82d-994d-47e0-da32-e6b0987222a4"
      },
      "execution_count": 28,
      "outputs": [
        {
          "output_type": "execute_result",
          "data": {
            "text/plain": [
              "{'table': {'price': 500, 'quantity': 10},\n",
              " 'chair': {'price': 200, 'quantity': 15},\n",
              " 'fan': {'price': 600, 'quantity': 8}}"
            ]
          },
          "metadata": {},
          "execution_count": 28
        }
      ]
    },
    {
      "cell_type": "code",
      "source": [
        "#- Update stock after a sale.\n",
        "inventory_system['new table'] = {\n",
        "         'price' : 1000,\n",
        "         'quantity' : 5\n",
        "}\n",
        "\n",
        "inventory_system['table'] = {\n",
        "         'price' : 1000,\n",
        "         'quantity' : 5\n",
        "}\n",
        "\n",
        "inventory_system"
      ],
      "metadata": {
        "colab": {
          "base_uri": "https://localhost:8080/"
        },
        "id": "Y9GkyN4nFZVt",
        "outputId": "1e567067-8375-4e61-9b2d-878008ff979b"
      },
      "execution_count": 33,
      "outputs": [
        {
          "output_type": "execute_result",
          "data": {
            "text/plain": [
              "{'table': {'price': 1000, 'quantity': 5},\n",
              " 'chair': {'price': 200, 'quantity': 15},\n",
              " 'fan': {'price': 600, 'quantity': 8},\n",
              " 'new table': {'price': 1000, 'quantity': 5}}"
            ]
          },
          "metadata": {},
          "execution_count": 33
        }
      ]
    },
    {
      "cell_type": "code",
      "source": [
        "inventory_system"
      ],
      "metadata": {
        "colab": {
          "base_uri": "https://localhost:8080/"
        },
        "id": "m44KBCiPWEGn",
        "outputId": "067af35e-5d53-438a-8a1c-ea824489a478"
      },
      "execution_count": 34,
      "outputs": [
        {
          "output_type": "execute_result",
          "data": {
            "text/plain": [
              "{'table': {'price': 1000, 'quantity': 5},\n",
              " 'chair': {'price': 200, 'quantity': 15},\n",
              " 'fan': {'price': 600, 'quantity': 8},\n",
              " 'new table': {'price': 1000, 'quantity': 5}}"
            ]
          },
          "metadata": {},
          "execution_count": 34
        }
      ]
    },
    {
      "cell_type": "code",
      "source": [
        "restock_threshold = 20\n",
        "restock_items = {}\n",
        "\n",
        "\n",
        "# restock_items based on high quantity to low\n",
        "\n",
        "for item, details in inventory_system.items():\n",
        "    if details['quantity'] < restock_threshold:\n",
        "        restock_items[item] = details\n",
        "\n",
        "print(\"Items that need restocking:\")\n",
        "print(sorted(restock_items.items()))"
      ],
      "metadata": {
        "colab": {
          "base_uri": "https://localhost:8080/"
        },
        "id": "VZt00W0DTLIS",
        "outputId": "1e48708a-a0b8-4e7c-eee8-99ad054f4b84"
      },
      "execution_count": 35,
      "outputs": [
        {
          "output_type": "stream",
          "name": "stdout",
          "text": [
            "Items that need restocking:\n",
            "[('chair', {'price': 200, 'quantity': 15}), ('fan', {'price': 600, 'quantity': 8}), ('new table', {'price': 1000, 'quantity': 5}), ('table', {'price': 1000, 'quantity': 5})]\n"
          ]
        }
      ]
    },
    {
      "cell_type": "code",
      "source": [
        "#  3. **Nested Data Manipulation:**\n",
        "library = {\n",
        "    'SQL' : ['my SQL' , 'SQL Server' ,'SQL'],\n",
        "    'OS' : ['Windows' ,'Linux']\n",
        "}\n",
        "\n",
        "library"
      ],
      "metadata": {
        "colab": {
          "base_uri": "https://localhost:8080/"
        },
        "id": "ucxkfsT0TLE3",
        "outputId": "ab887655-2cbb-4cb4-fc7e-3f219da3da1e"
      },
      "execution_count": 36,
      "outputs": [
        {
          "output_type": "execute_result",
          "data": {
            "text/plain": [
              "{'SQL': ['my SQL', 'SQL Server', 'SQL'], 'OS': ['Windows', 'Linux']}"
            ]
          },
          "metadata": {},
          "execution_count": 36
        }
      ]
    },
    {
      "cell_type": "code",
      "source": [
        "# - Add a new book to a genre.\n",
        "library['SQL'].append('sqlllllllllllll')\n",
        "\n",
        "library"
      ],
      "metadata": {
        "colab": {
          "base_uri": "https://localhost:8080/"
        },
        "id": "6QrRO7g2TLCc",
        "outputId": "6be5a65d-281f-45bf-92ba-5f7c35180f3b"
      },
      "execution_count": 37,
      "outputs": [
        {
          "output_type": "execute_result",
          "data": {
            "text/plain": [
              "{'SQL': ['my SQL', 'SQL Server', 'SQL', 'sqlllllllllllll'],\n",
              " 'OS': ['Windows', 'Linux']}"
            ]
          },
          "metadata": {},
          "execution_count": 37
        }
      ]
    },
    {
      "cell_type": "code",
      "source": [
        "#- List all books of a specific genre.\n",
        "print(library['SQL'])"
      ],
      "metadata": {
        "colab": {
          "base_uri": "https://localhost:8080/"
        },
        "id": "HMo4Jb1NTLAC",
        "outputId": "c3451d99-2edd-47cb-e21d-55ee09827362"
      },
      "execution_count": 38,
      "outputs": [
        {
          "output_type": "stream",
          "name": "stdout",
          "text": [
            "['my SQL', 'SQL Server', 'SQL', 'sqlllllllllllll']\n"
          ]
        }
      ]
    },
    {
      "cell_type": "code",
      "source": [
        "#  4. **Anagram Checker:**\n",
        "#text1 = 'listen'\n",
        "#text2= 'silent'\n",
        "# ['L', 'e', 'i', 'n', 's', 't']\n",
        "#['S', 'e', 'i', 'l', 'n', 't']\n",
        "\n",
        "def are_anagrams(str1, str2):\n",
        "    str1 = str1.lower()\n",
        "    str2 = str2.lower()\n",
        "\n",
        "    return sorted(str1) == sorted(str2)\n",
        "\n",
        "print(are_anagrams(\"Listen\", \"Silent\"))\n",
        "print(are_anagrams(\"hello\", \"world\"))\n",
        "\n",
        "#sorted('Listen')\n",
        "print(sorted('Listen'))\n",
        "print(sorted('Silent'))"
      ],
      "metadata": {
        "colab": {
          "base_uri": "https://localhost:8080/"
        },
        "id": "Sjc5jP5KTK69",
        "outputId": "ac5fadbc-a031-4f98-9daf-806b84917381"
      },
      "execution_count": 45,
      "outputs": [
        {
          "output_type": "stream",
          "name": "stdout",
          "text": [
            "True\n",
            "False\n",
            "['L', 'e', 'i', 'n', 's', 't']\n",
            "['S', 'e', 'i', 'l', 'n', 't']\n"
          ]
        }
      ]
    },
    {
      "cell_type": "code",
      "source": [
        "sorted('nada')"
      ],
      "metadata": {
        "colab": {
          "base_uri": "https://localhost:8080/"
        },
        "id": "sdjRb2lHTK4N",
        "outputId": "e666fd63-2700-41cf-9309-7d3e24ab68fe"
      },
      "execution_count": null,
      "outputs": [
        {
          "output_type": "execute_result",
          "data": {
            "text/plain": [
              "['a', 'a', 'd', 'n']"
            ]
          },
          "metadata": {},
          "execution_count": 106
        }
      ]
    },
    {
      "cell_type": "code",
      "source": [
        "# 5. **Two-Sum Problem:**\n",
        "def sumNum(nums, target):\n",
        "    for i in range(len(nums)):\n",
        "        for j in range(i + 1, len(nums)):\n",
        "            if nums[i] + nums[j] == target:\n",
        "                return [i, j]\n",
        "    return []\n",
        "\n"
      ],
      "metadata": {
        "id": "v6ct3UMacUe6"
      },
      "execution_count": 47,
      "outputs": []
    },
    {
      "cell_type": "code",
      "source": [
        "sumNum([2,7,11,15] ,9)"
      ],
      "metadata": {
        "colab": {
          "base_uri": "https://localhost:8080/"
        },
        "id": "eAYprNqOendt",
        "outputId": "0a46d7f4-9c0b-4a29-f3d2-01d787fce87a"
      },
      "execution_count": 48,
      "outputs": [
        {
          "output_type": "execute_result",
          "data": {
            "text/plain": [
              "[0, 1]"
            ]
          },
          "metadata": {},
          "execution_count": 48
        }
      ]
    },
    {
      "cell_type": "code",
      "source": [],
      "metadata": {
        "id": "OESIDlOWenai"
      },
      "execution_count": null,
      "outputs": []
    },
    {
      "cell_type": "code",
      "source": [],
      "metadata": {
        "id": "qYYYI967enXm"
      },
      "execution_count": null,
      "outputs": []
    }
  ]
}